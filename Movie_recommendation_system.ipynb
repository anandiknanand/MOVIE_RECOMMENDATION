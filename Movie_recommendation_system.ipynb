{
  "nbformat": 4,
  "nbformat_minor": 0,
  "metadata": {
    "colab": {
      "provenance": []
    },
    "kernelspec": {
      "name": "python3",
      "display_name": "Python 3"
    },
    "language_info": {
      "name": "python"
    }
  },
  "cells": [
    {
      "cell_type": "code",
      "execution_count": 3,
      "metadata": {
        "colab": {
          "base_uri": "https://localhost:8080/"
        },
        "id": "0oeyObAxZt9h",
        "outputId": "1de44443-7fbd-4af7-cf13-dc506ebb005d"
      },
      "outputs": [
        {
          "output_type": "stream",
          "name": "stdout",
          "text": [
            "Requirement already satisfied: pyspark in /usr/local/lib/python3.10/dist-packages (3.5.3)\n",
            "Requirement already satisfied: py4j==0.10.9.7 in /usr/local/lib/python3.10/dist-packages (from pyspark) (0.10.9.7)\n"
          ]
        }
      ],
      "source": [
        "!pip install pyspark\n"
      ]
    },
    {
      "cell_type": "code",
      "source": [
        "!pip uninstall pyspark -y\n",
        "!pip install pyspark\n"
      ],
      "metadata": {
        "id": "j_2qxO-ZfzRS"
      },
      "execution_count": null,
      "outputs": []
    },
    {
      "cell_type": "code",
      "source": [
        "import findspark\n",
        "findspark.init()\n",
        "\n",
        "import pyspark\n",
        "from pyspark.sql import SparkSession\n",
        "from pyspark.ml.recommendation import ALS\n",
        "from pyspark.sql.functions import col\n",
        "\n",
        "# Step 1: Initialize Spark session\n",
        "spark = SparkSession.builder \\\n",
        "    .appName(\"Collaborative Filtering Movie Recommendation\") \\\n",
        "    .getOrCreate()\n",
        "\n",
        "# Step 2: Load the MovieLens dataset with the correct file paths\n",
        "ratings_path = \"/content/ml-100k/ml-100k/u.data\"\n",
        "movies_path = \"/content/ml-100k/ml-100k/u.item\"\n",
        "\n",
        "# Load ratings and movies data directly into Spark DataFrames\n",
        "ratings_df = spark.read.csv(ratings_path, header=False, inferSchema=True, sep=\"\\t\")\n",
        "movies_df = spark.read.csv(movies_path, header=False, inferSchema=True, sep=\"|\")\n",
        "\n",
        "# Step 3: Assign column names to ratings dataframe\n",
        "ratings_df = ratings_df.select(\n",
        "    col(\"_c0\").alias(\"user\"),\n",
        "    col(\"_c1\").alias(\"movie\"),\n",
        "    col(\"_c2\").alias(\"rating\"),\n",
        "    col(\"_c3\").alias(\"timestamp\")\n",
        ")\n",
        "\n",
        "# Step 4: Assign column names to movies dataframe\n",
        "movies_df = movies_df.select(\n",
        "    col(\"_c0\").alias(\"movie\"),\n",
        "    col(\"_c1\").alias(\"title\"),\n",
        "    col(\"_c2\").alias(\"release_date\"),\n",
        "    col(\"_c3\").alias(\"video_release_date\"),\n",
        "    col(\"_c4\").alias(\"imdb_url\")\n",
        ")\n",
        "\n",
        "# Step 5: Prepare the data for ALS (Collaborative Filtering) model\n",
        "# ALS requires 'user' and 'movie' columns to be of numeric type, so let's cast them if needed\n",
        "ratings_df = ratings_df.withColumn(\"user\", ratings_df[\"user\"].cast(\"int\"))\n",
        "ratings_df = ratings_df.withColumn(\"movie\", ratings_df[\"movie\"].cast(\"int\"))\n",
        "\n",
        "# Step 6: Split the data into training and test sets\n",
        "(training, test) = ratings_df.randomSplit([0.8, 0.2])\n",
        "\n",
        "# Step 7: Train the model\n",
        "als = ALS(userCol=\"user\", itemCol=\"movie\", ratingCol=\"rating\", coldStartStrategy=\"drop\")\n",
        "model = als.fit(training)\n",
        "\n",
        "# Step 8: Evaluate the model on the test data\n",
        "predictions = model.transform(test)\n",
        "predictions.show()\n",
        "\n",
        "# Step 9: Show movie titles from predictions\n",
        "predicted_ratings = predictions.join(movies_df, on=\"movie\", how=\"inner\") \\\n",
        "    .select(\"user\", \"title\", \"prediction\")\n",
        "\n",
        "predicted_ratings.show()\n"
      ],
      "metadata": {
        "colab": {
          "base_uri": "https://localhost:8080/"
        },
        "id": "U_VPc5F-mYAo",
        "outputId": "b88b6cf4-21b3-48d3-a099-d5122b155437"
      },
      "execution_count": 9,
      "outputs": [
        {
          "output_type": "stream",
          "name": "stdout",
          "text": [
            "+----+-----+------+---------+----------+\n",
            "|user|movie|rating|timestamp|prediction|\n",
            "+----+-----+------+---------+----------+\n",
            "| 148|    7|     5|877017054|  4.063942|\n",
            "| 148|   50|     5|877016805| 4.7599473|\n",
            "| 148|  127|     1|877399351| 3.8953156|\n",
            "| 148|  132|     4|877020715|  3.937625|\n",
            "| 148|  135|     5|877016514|  3.971504|\n",
            "| 148|  169|     5|877020297| 4.7363753|\n",
            "| 148|  495|     4|877016735|  3.372613|\n",
            "| 148|  501|     4|877020297| 3.3081784|\n",
            "| 148|  507|     5|877398587| 3.0592344|\n",
            "| 148|  509|     5|877016605| 3.7819676|\n",
            "| 148| 1012|     4|877400154| 3.9423168|\n",
            "| 148| 1039|     2|877015784| 3.6771193|\n",
            "| 463|    3|     2|877386083| 1.6301373|\n",
            "| 463|   10|     1|890453075|  3.293445|\n",
            "| 463|   13|     3|877385664| 2.7157714|\n",
            "| 463|  100|     4|877385237| 3.9880238|\n",
            "| 463|  116|     5|877385381| 3.9741912|\n",
            "| 463|  137|     2|877385237| 3.6251612|\n",
            "| 463|  235|     2|877385457| 1.7040255|\n",
            "| 463|  253|     5|877387935| 2.3222983|\n",
            "+----+-----+------+---------+----------+\n",
            "only showing top 20 rows\n",
            "\n",
            "+----+--------------------+----------+\n",
            "|user|               title|prediction|\n",
            "+----+--------------------+----------+\n",
            "| 540|Courage Under Fir...| 3.6743255|\n",
            "| 883|Duoluo tianshi (1...| 3.0758862|\n",
            "| 588|Secret of Roan In...|  3.737756|\n",
            "| 588|It's a Wonderful ...|  3.974374|\n",
            "| 321|It's a Wonderful ...| 3.7774487|\n",
            "| 731|It's a Wonderful ...|  3.989975|\n",
            "| 332|Ghost and the Dar...| 3.8982008|\n",
            "| 332|Courage Under Fir...| 4.2320786|\n",
            "| 577|It's a Wonderful ...|  4.408543|\n",
            "| 159|Courage Under Fir...| 3.6491427|\n",
            "| 271|Courage Under Fir...| 3.2949889|\n",
            "| 271|It's a Wonderful ...|  4.156611|\n",
            "| 606|Courage Under Fir...|  3.929265|\n",
            "| 916|Ghost and the Dar...| 2.6066859|\n",
            "| 806|It's a Wonderful ...| 3.8252795|\n",
            "| 223|  Double Team (1997)|  1.677392|\n",
            "| 372|Ghost and the Dar...| 3.8940494|\n",
            "| 493|  Bulletproof (1996)| 3.0722249|\n",
            "| 924|It's a Wonderful ...| 4.0522594|\n",
            "| 346|It's a Wonderful ...| 3.7778463|\n",
            "+----+--------------------+----------+\n",
            "only showing top 20 rows\n",
            "\n"
          ]
        }
      ]
    },
    {
      "cell_type": "code",
      "source": [
        "from pyspark.ml.evaluation import RegressionEvaluator\n",
        "\n",
        "evaluator = RegressionEvaluator(metricName=\"rmse\", labelCol=\"rating\", predictionCol=\"prediction\")\n",
        "rmse = evaluator.evaluate(predictions)\n",
        "print(f\"Root Mean Squared Error (RMSE): {rmse}\")\n"
      ],
      "metadata": {
        "colab": {
          "base_uri": "https://localhost:8080/"
        },
        "id": "nkEpbInVpTR4",
        "outputId": "6e71c075-d4be-49dc-dc23-b958ec06c1a4"
      },
      "execution_count": 10,
      "outputs": [
        {
          "output_type": "stream",
          "name": "stdout",
          "text": [
            "Root Mean Squared Error (RMSE): 0.9187347842492681\n"
          ]
        }
      ]
    },
    {
      "cell_type": "code",
      "source": [
        "user_recommendations = model.recommendForAllUsers(10)\n",
        "user_recommendations.show()\n"
      ],
      "metadata": {
        "colab": {
          "base_uri": "https://localhost:8080/"
        },
        "id": "o8rUJCS-pgTv",
        "outputId": "dd46e9a6-e543-460c-9c4e-7ebdf62442f4"
      },
      "execution_count": 11,
      "outputs": [
        {
          "output_type": "stream",
          "name": "stdout",
          "text": [
            "+----+--------------------+\n",
            "|user|     recommendations|\n",
            "+----+--------------------+\n",
            "|   1|[{1463, 5.3074927...|\n",
            "|   3|[{1368, 5.2011733...|\n",
            "|   5|[{50, 4.368469}, ...|\n",
            "|   6|[{1463, 5.2188005...|\n",
            "|   9|[{1368, 5.5233593...|\n",
            "|  12|[{1450, 5.3338876...|\n",
            "|  13|[{1463, 5.540495}...|\n",
            "|  15|[{1278, 4.238954}...|\n",
            "|  16|[{1463, 5.897149}...|\n",
            "|  17|[{1524, 4.5804954...|\n",
            "|  19|[{1463, 4.9666615...|\n",
            "|  20|[{1192, 4.704961}...|\n",
            "|  22|[{1463, 5.19968},...|\n",
            "|  26|[{1463, 3.9767897...|\n",
            "|  27|[{1233, 4.4484315...|\n",
            "|  28|[{1368, 4.722732}...|\n",
            "|  31|[{1463, 5.7239}, ...|\n",
            "|  34|[{1449, 5.7307496...|\n",
            "|  35|[{1450, 4.1438174...|\n",
            "|  37|[{1368, 5.5148706...|\n",
            "+----+--------------------+\n",
            "only showing top 20 rows\n",
            "\n"
          ]
        }
      ]
    },
    {
      "cell_type": "code",
      "source": [
        "user_id = 148\n",
        "single_user = ratings_df.filter(col(\"user\") == user_id)\n",
        "recommendations = model.recommendForUserSubset(single_user, 10)\n",
        "recommendations.show()\n"
      ],
      "metadata": {
        "colab": {
          "base_uri": "https://localhost:8080/"
        },
        "id": "cvjyC28sp7Yw",
        "outputId": "ba19c429-15c4-4745-e2fb-b8afa324c946"
      },
      "execution_count": 12,
      "outputs": [
        {
          "output_type": "stream",
          "name": "stdout",
          "text": [
            "+----+--------------------+\n",
            "|user|     recommendations|\n",
            "+----+--------------------+\n",
            "| 148|[{718, 5.0798483}...|\n",
            "+----+--------------------+\n",
            "\n"
          ]
        }
      ]
    }
  ]
}